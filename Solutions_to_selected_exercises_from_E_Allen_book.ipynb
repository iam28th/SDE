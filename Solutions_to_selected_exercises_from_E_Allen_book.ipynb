{
 "cells": [
  {
   "cell_type": "code",
   "execution_count": 7,
   "metadata": {},
   "outputs": [],
   "source": [
    "from IPython.display import display, Image, Markdown\n",
    "def dispM(s):\n",
    "    display(Markdown(s))\n",
    "def dispI(s, width=500):\n",
    "    display(Image(url=s, width=width))"
   ]
  },
  {
   "cell_type": "markdown",
   "metadata": {},
   "source": [
    "---\n",
    "# 2. Stochastic processes"
   ]
  },
  {
   "cell_type": "markdown",
   "metadata": {},
   "source": [
    "## 2.2"
   ]
  },
  {
   "cell_type": "code",
   "execution_count": 12,
   "metadata": {},
   "outputs": [
    {
     "data": {
      "text/html": [
       "<img src=\"https://sun9-11.userapi.com/JoDpoZ6qNlMXtuC72uidTxckLP6AZaMVLgxSeg/hy-t9f4Vj6I.jpg\" width=\"500\"/>"
      ],
      "text/plain": [
       "<IPython.core.display.Image object>"
      ]
     },
     "metadata": {},
     "output_type": "display_data"
    }
   ],
   "source": [
    "dispI('https://sun9-11.userapi.com/JoDpoZ6qNlMXtuC72uidTxckLP6AZaMVLgxSeg/hy-t9f4Vj6I.jpg')"
   ]
  },
  {
   "cell_type": "markdown",
   "metadata": {},
   "source": [
    "## 2.3\n",
    "b)"
   ]
  },
  {
   "cell_type": "code",
   "execution_count": 13,
   "metadata": {},
   "outputs": [
    {
     "data": {
      "text/html": [
       "<img src=\"https://sun9-12.userapi.com/ddpzRUoMglY_xlDpZipZOvYz3gXAOkqKj25MKQ/Mh2a955gJZY.jpg\" width=\"500\"/>"
      ],
      "text/plain": [
       "<IPython.core.display.Image object>"
      ]
     },
     "metadata": {},
     "output_type": "display_data"
    }
   ],
   "source": [
    "dispI('https://sun9-12.userapi.com/ddpzRUoMglY_xlDpZipZOvYz3gXAOkqKj25MKQ/Mh2a955gJZY.jpg')"
   ]
  },
  {
   "cell_type": "markdown",
   "metadata": {},
   "source": [
    "c)"
   ]
  },
  {
   "cell_type": "code",
   "execution_count": 14,
   "metadata": {},
   "outputs": [
    {
     "data": {
      "text/html": [
       "<img src=\"https://sun9-65.userapi.com/ziYHIYapHLgykDxmzrFIrcx6HxfqYf4Ntwsq5Q/9-dKXx5RebM.jpg\" width=\"500\"/>"
      ],
      "text/plain": [
       "<IPython.core.display.Image object>"
      ]
     },
     "metadata": {},
     "output_type": "display_data"
    }
   ],
   "source": [
    "dispI('https://sun9-65.userapi.com/ziYHIYapHLgykDxmzrFIrcx6HxfqYf4Ntwsq5Q/9-dKXx5RebM.jpg')"
   ]
  },
  {
   "cell_type": "markdown",
   "metadata": {},
   "source": [
    "## 2.5"
   ]
  },
  {
   "cell_type": "code",
   "execution_count": 15,
   "metadata": {},
   "outputs": [
    {
     "data": {
      "text/html": [
       "<img src=\"https://sun9-33.userapi.com/qPfgZLlX_PH_t6ntMxfjfJ7H-C84sa4HubQxFw/xQ8ewBEnajU.jpg\" width=\"500\"/>"
      ],
      "text/plain": [
       "<IPython.core.display.Image object>"
      ]
     },
     "metadata": {},
     "output_type": "display_data"
    }
   ],
   "source": [
    "dispI('https://sun9-33.userapi.com/qPfgZLlX_PH_t6ntMxfjfJ7H-C84sa4HubQxFw/xQ8ewBEnajU.jpg')"
   ]
  },
  {
   "cell_type": "markdown",
   "metadata": {},
   "source": [
    "---\n",
    "# Stochastic integrals\n",
    "## 3.1\n",
    "a)"
   ]
  },
  {
   "cell_type": "code",
   "execution_count": 16,
   "metadata": {},
   "outputs": [
    {
     "data": {
      "text/html": [
       "<img src=\"https://sun9-18.userapi.com/NPXhAgTogOZqCamUpHzoQAdbkRycnwxB4iC47w/tj7_70J28KM.jpg\" width=\"500\"/>"
      ],
      "text/plain": [
       "<IPython.core.display.Image object>"
      ]
     },
     "metadata": {},
     "output_type": "display_data"
    },
    {
     "data": {
      "text/html": [
       "<img src=\"https://sun9-27.userapi.com/Q_dijULph7qBi87GPk84kR96DLyaQA1omYf_4g/zQbF37panAw.jpg\" width=\"500\"/>"
      ],
      "text/plain": [
       "<IPython.core.display.Image object>"
      ]
     },
     "metadata": {},
     "output_type": "display_data"
    }
   ],
   "source": [
    "dispI('https://sun9-18.userapi.com/NPXhAgTogOZqCamUpHzoQAdbkRycnwxB4iC47w/tj7_70J28KM.jpg')\n",
    "dispI('https://sun9-27.userapi.com/Q_dijULph7qBi87GPk84kR96DLyaQA1omYf_4g/zQbF37panAw.jpg')"
   ]
  },
  {
   "cell_type": "markdown",
   "metadata": {},
   "source": [
    "b)"
   ]
  },
  {
   "cell_type": "code",
   "execution_count": 17,
   "metadata": {},
   "outputs": [
    {
     "data": {
      "text/html": [
       "<img src=\"https://sun9-9.userapi.com/O0HR3WcyuXXZLp9j_XKpiIq-VezE3et2qsSSMA/fnJUhH-pz7s.jpg\" width=\"500\"/>"
      ],
      "text/plain": [
       "<IPython.core.display.Image object>"
      ]
     },
     "metadata": {},
     "output_type": "display_data"
    },
    {
     "data": {
      "text/html": [
       "<img src=\"https://sun9-27.userapi.com/t4xOaKhq3SmCULORrTi6pf49Xcfjn3p8sNieEQ/nhJ9Ij6BS2o.jpg\" width=\"500\"/>"
      ],
      "text/plain": [
       "<IPython.core.display.Image object>"
      ]
     },
     "metadata": {},
     "output_type": "display_data"
    }
   ],
   "source": [
    "dispI('https://sun9-9.userapi.com/O0HR3WcyuXXZLp9j_XKpiIq-VezE3et2qsSSMA/fnJUhH-pz7s.jpg')\n",
    "dispI('https://sun9-27.userapi.com/t4xOaKhq3SmCULORrTi6pf49Xcfjn3p8sNieEQ/nhJ9Ij6BS2o.jpg')"
   ]
  },
  {
   "cell_type": "markdown",
   "metadata": {},
   "source": [
    "## 3.3"
   ]
  },
  {
   "cell_type": "code",
   "execution_count": 18,
   "metadata": {},
   "outputs": [
    {
     "data": {
      "text/html": [
       "<img src=\"https://sun9-66.userapi.com/Jq3eGQ7IGeZyuxRS3dTWxZkwL8pMnTkFIl9hdw/4WBkwxujTMQ.jpg\" width=\"500\"/>"
      ],
      "text/plain": [
       "<IPython.core.display.Image object>"
      ]
     },
     "metadata": {},
     "output_type": "display_data"
    }
   ],
   "source": [
    "dispI('https://sun9-66.userapi.com/Jq3eGQ7IGeZyuxRS3dTWxZkwL8pMnTkFIl9hdw/4WBkwxujTMQ.jpg')"
   ]
  },
  {
   "cell_type": "markdown",
   "metadata": {},
   "source": [
    "## 3.6"
   ]
  },
  {
   "cell_type": "code",
   "execution_count": 19,
   "metadata": {},
   "outputs": [
    {
     "data": {
      "text/html": [
       "<img src=\"https://sun9-73.userapi.com/b8KeesNi-KMhhp-uIcQXNm4IH2u2ahe6gtZjNw/1AAQGyuS9yc.jpg\" width=\"500\"/>"
      ],
      "text/plain": [
       "<IPython.core.display.Image object>"
      ]
     },
     "metadata": {},
     "output_type": "display_data"
    }
   ],
   "source": [
    "dispI('https://sun9-73.userapi.com/b8KeesNi-KMhhp-uIcQXNm4IH2u2ahe6gtZjNw/1AAQGyuS9yc.jpg')"
   ]
  },
  {
   "cell_type": "markdown",
   "metadata": {},
   "source": [
    "## 3.7\n",
    "a)"
   ]
  },
  {
   "cell_type": "code",
   "execution_count": 20,
   "metadata": {},
   "outputs": [
    {
     "data": {
      "text/html": [
       "<img src=\"https://sun9-52.userapi.com/4heHdGRKIUPbDzFi29VrboB4qJYoJV7wrxPS9g/rJJMnQams_8.jpg\" width=\"500\"/>"
      ],
      "text/plain": [
       "<IPython.core.display.Image object>"
      ]
     },
     "metadata": {},
     "output_type": "display_data"
    }
   ],
   "source": [
    "dispI('https://sun9-52.userapi.com/4heHdGRKIUPbDzFi29VrboB4qJYoJV7wrxPS9g/rJJMnQams_8.jpg')"
   ]
  },
  {
   "cell_type": "markdown",
   "metadata": {},
   "source": [
    "b)"
   ]
  },
  {
   "cell_type": "code",
   "execution_count": 21,
   "metadata": {},
   "outputs": [
    {
     "data": {
      "text/html": [
       "<img src=\"https://sun9-37.userapi.com/clf8r2M2cTrDOYLSABRqhSdDk1DM3UnDw3hwwg/me4ErNd7lVA.jpg\" width=\"500\"/>"
      ],
      "text/plain": [
       "<IPython.core.display.Image object>"
      ]
     },
     "metadata": {},
     "output_type": "display_data"
    }
   ],
   "source": [
    "dispI('https://sun9-37.userapi.com/clf8r2M2cTrDOYLSABRqhSdDk1DM3UnDw3hwwg/me4ErNd7lVA.jpg')"
   ]
  },
  {
   "cell_type": "markdown",
   "metadata": {},
   "source": [
    "## 3.10"
   ]
  },
  {
   "cell_type": "code",
   "execution_count": 22,
   "metadata": {},
   "outputs": [
    {
     "data": {
      "text/html": [
       "<img src=\"https://sun9-38.userapi.com/Ca96MfFN2WD7Iw-ii2nVAApbhRZdOr4cA94peg/S0Qek0krC_k.jpg\" width=\"500\"/>"
      ],
      "text/plain": [
       "<IPython.core.display.Image object>"
      ]
     },
     "metadata": {},
     "output_type": "display_data"
    }
   ],
   "source": [
    "dispI('https://sun9-38.userapi.com/Ca96MfFN2WD7Iw-ii2nVAApbhRZdOr4cA94peg/S0Qek0krC_k.jpg')"
   ]
  },
  {
   "cell_type": "markdown",
   "metadata": {},
   "source": [
    "---\n",
    "# Stochastic differential equations\n",
    "## 4.1"
   ]
  },
  {
   "cell_type": "code",
   "execution_count": 29,
   "metadata": {
    "scrolled": false
   },
   "outputs": [
    {
     "data": {
      "text/html": [
       "<img src=\"https://sun9-43.userapi.com/impf/GHx3D7AGfD2wOZwMPPNR3jWfTWLPvWHyzEwTwQ/30fhilvNHHY.jpg?size=1531x2048&quality=96&proxy=1&sign=3f7547d52643468f2f072666070fe7f7\" width=\"500\"/>"
      ],
      "text/plain": [
       "<IPython.core.display.Image object>"
      ]
     },
     "metadata": {},
     "output_type": "display_data"
    },
    {
     "data": {
      "text/html": [
       "<img src=\"https://sun9-52.userapi.com/impf/0dmBbZKAGE-sDAzeXd5puWbbjt8RPRRA54-rHg/CgbJfe7_Y4Y.jpg?size=1531x2048&quality=96&proxy=1&sign=e9fc2476a004b9f155faba900caeed4d\" width=\"500\"/>"
      ],
      "text/plain": [
       "<IPython.core.display.Image object>"
      ]
     },
     "metadata": {},
     "output_type": "display_data"
    },
    {
     "data": {
      "text/html": [
       "<img src=\"https://sun9-33.userapi.com/impf/nLIh7RyiDWdsQtTIinDtBLnfpXej_oMRwTqWUg/S2tifxy0O90.jpg?size=1615x2160&quality=96&proxy=1&sign=8cbb7580d1df099e408422c146e12bbd\" width=\"500\"/>"
      ],
      "text/plain": [
       "<IPython.core.display.Image object>"
      ]
     },
     "metadata": {},
     "output_type": "display_data"
    },
    {
     "data": {
      "text/html": [
       "<img src=\"https://sun9-53.userapi.com/impf/r7CCt-vM1ruYTgexNpFQ-rKGftP8ca0XRBfkOA/oIW8dzc3ruY.jpg?size=2048x1531&quality=96&proxy=1&sign=250f8e3a6fe8595136b523f3af0d3b1e\" width=\"500\"/>"
      ],
      "text/plain": [
       "<IPython.core.display.Image object>"
      ]
     },
     "metadata": {},
     "output_type": "display_data"
    }
   ],
   "source": [
    "dispI('https://sun9-43.userapi.com/impf/GHx3D7AGfD2wOZwMPPNR3jWfTWLPvWHyzEwTwQ/30fhilvNHHY.jpg?size=1531x2048&quality=96&proxy=1&sign=3f7547d52643468f2f072666070fe7f7')\n",
    "dispI('https://sun9-52.userapi.com/impf/0dmBbZKAGE-sDAzeXd5puWbbjt8RPRRA54-rHg/CgbJfe7_Y4Y.jpg?size=1531x2048&quality=96&proxy=1&sign=e9fc2476a004b9f155faba900caeed4d')\n",
    "dispI('https://sun9-33.userapi.com/impf/nLIh7RyiDWdsQtTIinDtBLnfpXej_oMRwTqWUg/S2tifxy0O90.jpg?size=1615x2160&quality=96&proxy=1&sign=8cbb7580d1df099e408422c146e12bbd')\n",
    "dispI('https://sun9-53.userapi.com/impf/r7CCt-vM1ruYTgexNpFQ-rKGftP8ca0XRBfkOA/oIW8dzc3ruY.jpg?size=2048x1531&quality=96&proxy=1&sign=250f8e3a6fe8595136b523f3af0d3b1e')"
   ]
  },
  {
   "cell_type": "markdown",
   "metadata": {},
   "source": [
    "## 4.2"
   ]
  },
  {
   "cell_type": "code",
   "execution_count": 33,
   "metadata": {},
   "outputs": [
    {
     "data": {
      "text/html": [
       "<img src=\"https://sun9-18.userapi.com/impf/3yzG3ZubPS23FHZoqyjAgogF1Cjc-MdwkQGeTw/c0bsBY-fAQI.jpg?size=1531x2048&quality=96&proxy=1&sign=e9a041342b2fd9bb952c6dfc27d870cb\" width=\"500\"/>"
      ],
      "text/plain": [
       "<IPython.core.display.Image object>"
      ]
     },
     "metadata": {},
     "output_type": "display_data"
    }
   ],
   "source": [
    "dispI('https://sun9-18.userapi.com/impf/3yzG3ZubPS23FHZoqyjAgogF1Cjc-MdwkQGeTw/c0bsBY-fAQI.jpg?size=1531x2048&quality=96&proxy=1&sign=e9a041342b2fd9bb952c6dfc27d870cb')"
   ]
  },
  {
   "cell_type": "markdown",
   "metadata": {},
   "source": [
    "## 4.5"
   ]
  },
  {
   "cell_type": "code",
   "execution_count": 36,
   "metadata": {},
   "outputs": [
    {
     "data": {
      "text/html": [
       "<img src=\"https://sun9-9.userapi.com/impf/jfldTUXCLefFY3chp4LxcFwIo4uBvbddDak1Lw/AK3Tku2aUww.jpg?size=1531x2048&quality=96&proxy=1&sign=0fe4ac3d9cf84e2d2a1e4ba949d0ab7d\" width=\"500\"/>"
      ],
      "text/plain": [
       "<IPython.core.display.Image object>"
      ]
     },
     "metadata": {},
     "output_type": "display_data"
    },
    {
     "data": {
      "text/html": [
       "<img src=\"https://sun9-61.userapi.com/impf/4-WC7PxGZPy0Ol0TYfzPh6N01CoBPFXE13dugw/LSynNTJkpFI.jpg?size=1531x2048&quality=96&proxy=1&sign=00e1155e5ba7ecef066a32888f7b521f\" width=\"500\"/>"
      ],
      "text/plain": [
       "<IPython.core.display.Image object>"
      ]
     },
     "metadata": {},
     "output_type": "display_data"
    }
   ],
   "source": [
    "dispI('https://sun9-9.userapi.com/impf/jfldTUXCLefFY3chp4LxcFwIo4uBvbddDak1Lw/AK3Tku2aUww.jpg?size=1531x2048&quality=96&proxy=1&sign=0fe4ac3d9cf84e2d2a1e4ba949d0ab7d')\n",
    "dispI('https://sun9-61.userapi.com/impf/4-WC7PxGZPy0Ol0TYfzPh6N01CoBPFXE13dugw/LSynNTJkpFI.jpg?size=1531x2048&quality=96&proxy=1&sign=00e1155e5ba7ecef066a32888f7b521f')"
   ]
  },
  {
   "cell_type": "markdown",
   "metadata": {},
   "source": [
    "## 4.7"
   ]
  },
  {
   "cell_type": "code",
   "execution_count": 43,
   "metadata": {},
   "outputs": [
    {
     "data": {
      "text/html": [
       "<img src=\"https://sun9-25.userapi.com/impf/M5EwlBngn_R_G71hWTjQLu604M2p9F8TbneaRg/3GmEc4USRCQ.jpg?size=1531x2048&quality=96&proxy=1&sign=e2dde3ad1c54593c56ee73a4b13e3ae0\" width=\"500\"/>"
      ],
      "text/plain": [
       "<IPython.core.display.Image object>"
      ]
     },
     "metadata": {},
     "output_type": "display_data"
    },
    {
     "data": {
      "text/html": [
       "<img src=\"https://sun9-29.userapi.com/impf/d5lV0boJKWDytoC_edX89TGHpMBrKQEIi_DbRQ/_GgNBJNjeQg.jpg?size=627x248&quality=96&proxy=1&sign=9ea796f52063b093990c660aa7ac330a\" width=\"500\"/>"
      ],
      "text/plain": [
       "<IPython.core.display.Image object>"
      ]
     },
     "metadata": {},
     "output_type": "display_data"
    }
   ],
   "source": [
    "dispI('https://sun9-25.userapi.com/impf/M5EwlBngn_R_G71hWTjQLu604M2p9F8TbneaRg/3GmEc4USRCQ.jpg?size=1531x2048&quality=96&proxy=1&sign=e2dde3ad1c54593c56ee73a4b13e3ae0')\n",
    "dispI('https://sun9-29.userapi.com/impf/d5lV0boJKWDytoC_edX89TGHpMBrKQEIi_DbRQ/_GgNBJNjeQg.jpg?size=627x248&quality=96&proxy=1&sign=9ea796f52063b093990c660aa7ac330a')"
   ]
  },
  {
   "cell_type": "markdown",
   "metadata": {},
   "source": [
    "## 4.9"
   ]
  },
  {
   "cell_type": "code",
   "execution_count": 44,
   "metadata": {},
   "outputs": [
    {
     "data": {
      "text/html": [
       "<img src=\"https://sun9-55.userapi.com/impf/1odwrM-9cMSDi5KNED9fQ7vIWBGUB5nTPNv2Dw/niRxyC6DRvs.jpg?size=1531x2048&quality=96&proxy=1&sign=1c469b30f869b1bcb5aa06878ead89f9\" width=\"500\"/>"
      ],
      "text/plain": [
       "<IPython.core.display.Image object>"
      ]
     },
     "metadata": {},
     "output_type": "display_data"
    },
    {
     "data": {
      "text/html": [
       "<img src=\"https://sun9-36.userapi.com/impf/73bn1n5O8JJedLnbBhGXIoPmB_xMFjQ5if_m0Q/-2dIicfJtqY.jpg?size=1531x2048&quality=96&proxy=1&sign=5f4117e3a260ddd36b4a60eadf86ab9f\" width=\"500\"/>"
      ],
      "text/plain": [
       "<IPython.core.display.Image object>"
      ]
     },
     "metadata": {},
     "output_type": "display_data"
    }
   ],
   "source": [
    "dispI('https://sun9-55.userapi.com/impf/1odwrM-9cMSDi5KNED9fQ7vIWBGUB5nTPNv2Dw/niRxyC6DRvs.jpg?size=1531x2048&quality=96&proxy=1&sign=1c469b30f869b1bcb5aa06878ead89f9')\n",
    "dispI('https://sun9-36.userapi.com/impf/73bn1n5O8JJedLnbBhGXIoPmB_xMFjQ5if_m0Q/-2dIicfJtqY.jpg?size=1531x2048&quality=96&proxy=1&sign=5f4117e3a260ddd36b4a60eadf86ab9f')"
   ]
  }
 ],
 "metadata": {
  "kernelspec": {
   "display_name": "Python 3",
   "language": "python",
   "name": "python3"
  },
  "language_info": {
   "codemirror_mode": {
    "name": "ipython",
    "version": 3
   },
   "file_extension": ".py",
   "mimetype": "text/x-python",
   "name": "python",
   "nbconvert_exporter": "python",
   "pygments_lexer": "ipython3",
   "version": "3.8.5"
  }
 },
 "nbformat": 4,
 "nbformat_minor": 4
}
